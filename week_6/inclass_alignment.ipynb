{
 "cells": [
  {
   "cell_type": "code",
   "execution_count": 2,
   "metadata": {},
   "outputs": [
    {
     "data": {
      "text/plain": [
       "-1"
      ]
     },
     "execution_count": 2,
     "metadata": {},
     "output_type": "execute_result"
    }
   ],
   "source": [
    "import numpy as np\n",
    "import cv2 as cv \n",
    "\n",
    "im1 =  cv.imread('C:/Users/nadil/Desktop/EN3160_Image_Processing_and_Machine_Vision/images/graf/img1.ppm', cv. IMREAD_COLOR)\n",
    "im2 =  cv.imread('C:/Users/nadil/Desktop/EN3160_Image_Processing_and_Machine_Vision/images/graf/img2.ppm', cv. IMREAD_COLOR) \n",
    "\n",
    "# Reding the given homograpty \n",
    "with open(r'C:/Users/nadil/Desktop/EN3160_Image_Processing_and_Machine_Vision/images/graf/H1to2p') as f:\n",
    "    H = np.array([[float(h) for h in line.split()] for line in f])\n",
    "\n",
    "im2to1 = cv.warpPerspective(im1, np.linalg.inv(H), (1000,1000)) \n",
    "im2to1[0:im1.shape[0], 0:im1.shape[1]] = im1\n",
    "cv.namedWindow('Image 1', cv.WINDOW_AUTOSIZE) \n",
    "cv.imshow( 'Image 1', im1) \n",
    "cv.waitKey(0)"
   ]
  },
  {
   "cell_type": "code",
   "execution_count": 3,
   "metadata": {},
   "outputs": [],
   "source": [
    "import numpy as np\n",
    "import cv2 as cv \n",
    "im1 =  cv.imread('C:/Users/nadil/Desktop/EN3160_Image_Processing_and_Machine_Vision/images/graf/img1.ppm', cv. IMREAD_COLOR)\n",
    "im2 =  cv.imread('C:/Users/nadil/Desktop/EN3160_Image_Processing_and_Machine_Vision/images/graf/img2.ppm', cv. IMREAD_COLOR) \n",
    "assert im1 is not None\n",
    "\n",
    "\n",
    "N = 4\n",
    "global n\n",
    "n = 0\n",
    "\n",
    "p1 = np.empty((N,2))\n",
    "p2 = np.empty((N,2))\n",
    "\n",
    "def draw_circle(event, x, y, flags, param):\n",
    "    global n\n",
    "    p = param[0]\n",
    "    if event == cv.EVENT_LBUTTONDOWN:\n",
    "        cv.circle(param[1], (x,y), 3, (0,255,0), -1)\n",
    "        p[n] = (x,y)\n",
    "        n = n+1\n",
    "\n",
    "im1copy = im1.copy()\n",
    "im2copy = im2.copy()\n",
    "\n",
    "cv.namedWindow('Image 1',cv.WINDOW_AUTOSIZE)\n",
    "\n",
    "param = [p1, im1copy]\n",
    "\n",
    "cv.setMouseCallback('Image 1', draw_circle, param)\n",
    "\n",
    "while (1):\n",
    "    cv.imshow('Image 1', im1copy)\n",
    "    if n == N:\n",
    "        break\n",
    "    if cv.waitKey(20) & 0xFF == 27:\n",
    "        break       \n",
    "    \n",
    "#for the second image\n",
    "n=0\n",
    "cv.namedWindow('Image 2',cv.WINDOW_AUTOSIZE)\n",
    "\n",
    "param = [p2, im2copy]\n",
    "\n",
    "cv.setMouseCallback('Image 2', draw_circle, param)\n",
    "\n",
    "while (1):\n",
    "    cv.imshow('Image 2', im2copy)\n",
    "    if n == N:\n",
    "        break\n",
    "    if cv.waitKey(20) & 0xFF == 27:\n",
    "        break       \n",
    "\n",
    "    \n",
    "cv.destroyAllWindows()"
   ]
  },
  {
   "cell_type": "code",
   "execution_count": 5,
   "metadata": {},
   "outputs": [
    {
     "data": {
      "text/plain": [
       "array([[405., 207.],\n",
       "       [525., 222.],\n",
       "       [274., 138.],\n",
       "       [543., 542.]])"
      ]
     },
     "execution_count": 5,
     "metadata": {},
     "output_type": "execute_result"
    }
   ],
   "source": [
    "p1"
   ]
  },
  {
   "cell_type": "code",
   "execution_count": 6,
   "metadata": {},
   "outputs": [
    {
     "data": {
      "text/plain": [
       "array([[449., 241.],\n",
       "       [355., 252.],\n",
       "       [233., 220.],\n",
       "       [473., 487.]])"
      ]
     },
     "execution_count": 6,
     "metadata": {},
     "output_type": "execute_result"
    }
   ],
   "source": [
    "p2"
   ]
  }
 ],
 "metadata": {
  "kernelspec": {
   "display_name": "Python 3",
   "language": "python",
   "name": "python3"
  },
  "language_info": {
   "codemirror_mode": {
    "name": "ipython",
    "version": 3
   },
   "file_extension": ".py",
   "mimetype": "text/x-python",
   "name": "python",
   "nbconvert_exporter": "python",
   "pygments_lexer": "ipython3",
   "version": "3.12.3"
  }
 },
 "nbformat": 4,
 "nbformat_minor": 2
}
